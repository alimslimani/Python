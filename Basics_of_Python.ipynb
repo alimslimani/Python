{
  "nbformat": 4,
  "nbformat_minor": 0,
  "metadata": {
    "colab": {
      "name": "Basics of Python.ipynb",
      "provenance": [],
      "collapsed_sections": [
        "5z_YaTbKu4BH",
        "XMEwktoU578i"
      ],
      "include_colab_link": true
    },
    "kernelspec": {
      "name": "python3",
      "display_name": "Python 3"
    }
  },
  "cells": [
    {
      "cell_type": "markdown",
      "metadata": {
        "id": "view-in-github",
        "colab_type": "text"
      },
      "source": [
        "<a href=\"https://colab.research.google.com/github/alimslimani/PythonIntro/blob/develop/Basics_of_Python.ipynb\" target=\"_parent\"><img src=\"https://colab.research.google.com/assets/colab-badge.svg\" alt=\"Open In Colab\"/></a>"
      ]
    },
    {
      "cell_type": "code",
      "metadata": {
        "id": "EOVyCwhYlBD9",
        "colab_type": "code",
        "colab": {
          "base_uri": "https://localhost:8080/",
          "height": 34
        },
        "outputId": "b9ce734a-d3e0-43d7-fee3-43db62cec1ad"
      },
      "source": [
        "print (\"Hello\");"
      ],
      "execution_count": 4,
      "outputs": [
        {
          "output_type": "stream",
          "text": [
            "Hello\n"
          ],
          "name": "stdout"
        }
      ]
    },
    {
      "cell_type": "code",
      "metadata": {
        "id": "-85Mwz9Wm4Cg",
        "colab_type": "code",
        "colab": {
          "base_uri": "https://localhost:8080/",
          "height": 34
        },
        "outputId": "ecaa209a-7c27-4991-c47e-f46bc7064d34"
      },
      "source": [
        "num1= 2015\n",
        "num2= 4561\n",
        "print(num1+num2);"
      ],
      "execution_count": 6,
      "outputs": [
        {
          "output_type": "stream",
          "text": [
            "6576\n"
          ],
          "name": "stdout"
        }
      ]
    },
    {
      "cell_type": "code",
      "metadata": {
        "id": "x5W-6ZqJm4UD",
        "colab_type": "code",
        "colab": {
          "base_uri": "https://localhost:8080/",
          "height": 68
        },
        "outputId": "33f11572-4f43-4fea-af67-eff1449a0722"
      },
      "source": [
        "num1 = input('Enter your number: ')\n",
        "num2= input('Enter number 2:')\n",
        "print(float(num1)*float(num2))"
      ],
      "execution_count": 12,
      "outputs": [
        {
          "output_type": "stream",
          "text": [
            "Enter your number: 5.2\n",
            "Enter number 2:2\n",
            "10.4\n"
          ],
          "name": "stdout"
        }
      ]
    },
    {
      "cell_type": "markdown",
      "metadata": {
        "id": "Pg1CXsy6oa6F",
        "colab_type": "text"
      },
      "source": [
        "\n",
        "# ***Basic Calculator***"
      ]
    },
    {
      "cell_type": "markdown",
      "metadata": {
        "id": "-qcPLPYz9390",
        "colab_type": "text"
      },
      "source": [
        ""
      ]
    },
    {
      "cell_type": "code",
      "metadata": {
        "id": "CkrCgzqbnaQh",
        "colab_type": "code",
        "colab": {
          "base_uri": "https://localhost:8080/",
          "height": 85
        },
        "outputId": "6bdde85d-c2cf-4cc1-ab0c-907c5e3647a9"
      },
      "source": [
        "#to multiply two numbers\n",
        "def mult(a,b):\n",
        "  return a*b\n",
        "\n",
        "#to add two numbers\n",
        "def add(a,b):\n",
        "  return a+b\n",
        "\n",
        "#to substract two numbers\n",
        "def minus(a,b):\n",
        "  return a-b\n",
        "\n",
        "#to divide two numbers\n",
        "def div(a,b):\n",
        "  return a/b\n",
        "\n",
        "choice = input(\"Enter choice(*,/,+,-)\")\n",
        "num1 = int(input(\"Enter number 1: \"))\n",
        "num2 = int(input(\"Enter number 2: \"))\n",
        "\n",
        "if(choice=='+'):\n",
        "  print('addition is ',add(num1,num2))\n",
        "elif(choice == '-'):\n",
        "  print('substraction is ',minus(num1,num2))\n",
        "elif(choice =='*'):\n",
        "  print('multiplication is ',mult(num1,num2))\n",
        "elif(choice == '/'):\n",
        "  print('division is ',div(num1,num2))\n",
        "else:\n",
        "  print('Enter a valid number')"
      ],
      "execution_count": 30,
      "outputs": [
        {
          "output_type": "stream",
          "text": [
            "Enter choice(*,/,+,-)*\n",
            "Enter number 1: 5\n",
            "Enter number 2: 5\n",
            "multiplication is  25\n"
          ],
          "name": "stdout"
        }
      ]
    },
    {
      "cell_type": "code",
      "metadata": {
        "id": "T3mYPLK5uy34",
        "colab_type": "code",
        "colab": {}
      },
      "source": [
        ""
      ],
      "execution_count": 0,
      "outputs": []
    },
    {
      "cell_type": "markdown",
      "metadata": {
        "id": "5z_YaTbKu4BH",
        "colab_type": "text"
      },
      "source": [
        "### ***Lists***"
      ]
    },
    {
      "cell_type": "code",
      "metadata": {
        "id": "xb0XVAv4u7Rz",
        "colab_type": "code",
        "colab": {}
      },
      "source": [
        "my_list = [1,2,3,4,5]"
      ],
      "execution_count": 0,
      "outputs": []
    },
    {
      "cell_type": "code",
      "metadata": {
        "id": "qNvCzx-XvCyE",
        "colab_type": "code",
        "colab": {
          "base_uri": "https://localhost:8080/",
          "height": 34
        },
        "outputId": "84543a08-1373-4a3b-9518-3d626f495f26"
      },
      "source": [
        "print(my_list)"
      ],
      "execution_count": 33,
      "outputs": [
        {
          "output_type": "stream",
          "text": [
            "[1, 2, 3, 4, 5]\n"
          ],
          "name": "stdout"
        }
      ]
    },
    {
      "cell_type": "code",
      "metadata": {
        "id": "EPSYwKKDvJqk",
        "colab_type": "code",
        "colab": {}
      },
      "source": [
        "my_list2=[1,2,'ab',True]"
      ],
      "execution_count": 0,
      "outputs": []
    },
    {
      "cell_type": "code",
      "metadata": {
        "id": "BEHU2iu-vQTi",
        "colab_type": "code",
        "colab": {
          "base_uri": "https://localhost:8080/",
          "height": 34
        },
        "outputId": "6cbba0ae-37b5-4494-bbf1-f367e8ab903e"
      },
      "source": [
        "print (my_list2)"
      ],
      "execution_count": 36,
      "outputs": [
        {
          "output_type": "stream",
          "text": [
            "[1, 2, 'ab', True]\n"
          ],
          "name": "stdout"
        }
      ]
    },
    {
      "cell_type": "code",
      "metadata": {
        "id": "Sx3DixMQvXZg",
        "colab_type": "code",
        "colab": {}
      },
      "source": [
        "my_list3=[\"ab\",[1,2,3],['a','b']]"
      ],
      "execution_count": 0,
      "outputs": []
    },
    {
      "cell_type": "code",
      "metadata": {
        "id": "pQMneMvPve_0",
        "colab_type": "code",
        "colab": {
          "base_uri": "https://localhost:8080/",
          "height": 34
        },
        "outputId": "5e60ef10-6665-4a30-80fa-be4f94bcc071"
      },
      "source": [
        "print(my_list3)"
      ],
      "execution_count": 38,
      "outputs": [
        {
          "output_type": "stream",
          "text": [
            "['ab', [1, 2, 3], ['a', 'b']]\n"
          ],
          "name": "stdout"
        }
      ]
    },
    {
      "cell_type": "code",
      "metadata": {
        "id": "YXEyHXphwHwO",
        "colab_type": "code",
        "colab": {
          "base_uri": "https://localhost:8080/",
          "height": 34
        },
        "outputId": "375fe2b7-b9ce-4979-f588-cba1c5420b86"
      },
      "source": [
        "#to access list elements of list\n",
        "#acces to last element of list : -1\n",
        "my_list4 = ['i','r','o','n','h','a','c','k']\n",
        "print(my_list4[4])"
      ],
      "execution_count": 40,
      "outputs": [
        {
          "output_type": "stream",
          "text": [
            "h\n"
          ],
          "name": "stdout"
        }
      ]
    },
    {
      "cell_type": "code",
      "metadata": {
        "id": "JhQ5VV6vw14V",
        "colab_type": "code",
        "colab": {
          "base_uri": "https://localhost:8080/",
          "height": 34
        },
        "outputId": "2945a3ab-9f23-4f4a-e2d6-5300e84efc13"
      },
      "source": [
        "print(my_list4[2:5])"
      ],
      "execution_count": 42,
      "outputs": [
        {
          "output_type": "stream",
          "text": [
            "['o', 'n', 'h']\n"
          ],
          "name": "stdout"
        }
      ]
    },
    {
      "cell_type": "code",
      "metadata": {
        "id": "CwZTXrfMxHcz",
        "colab_type": "code",
        "colab": {
          "base_uri": "https://localhost:8080/",
          "height": 34
        },
        "outputId": "9f85bf5e-23e0-49c8-d6cb-4d5840a374d2"
      },
      "source": [
        "adds = [1,2,5,7]\n",
        "adds.append(9)\n",
        "print(adds)"
      ],
      "execution_count": 43,
      "outputs": [
        {
          "output_type": "stream",
          "text": [
            "[1, 2, 5, 7, 9]\n"
          ],
          "name": "stdout"
        }
      ]
    },
    {
      "cell_type": "code",
      "metadata": {
        "id": "Yo3ggt2IxoKJ",
        "colab_type": "code",
        "colab": {}
      },
      "source": [
        "adds.append([11,13,15])"
      ],
      "execution_count": 0,
      "outputs": []
    },
    {
      "cell_type": "code",
      "metadata": {
        "id": "IL9du1kCyEXd",
        "colab_type": "code",
        "colab": {
          "base_uri": "https://localhost:8080/",
          "height": 51
        },
        "outputId": "1d20a6df-b150-42ae-8271-f67ca5a1a3be"
      },
      "source": [
        "print(adds)\n",
        "del adds[-1]\n",
        "print(adds)"
      ],
      "execution_count": 49,
      "outputs": [
        {
          "output_type": "stream",
          "text": [
            "[1, 2, 5, 7, 9, [11, 13, 15]]\n",
            "[1, 2, 5, 7, 9]\n"
          ],
          "name": "stdout"
        }
      ]
    },
    {
      "cell_type": "code",
      "metadata": {
        "id": "V3wPRQATyQwN",
        "colab_type": "code",
        "colab": {
          "base_uri": "https://localhost:8080/",
          "height": 34
        },
        "outputId": "b3c86105-7c62-4d94-afc1-339c5472780b"
      },
      "source": [
        "adds.extend([11,13])\n",
        "print(adds)"
      ],
      "execution_count": 50,
      "outputs": [
        {
          "output_type": "stream",
          "text": [
            "[1, 2, 5, 7, 9, 11, 13]\n"
          ],
          "name": "stdout"
        }
      ]
    },
    {
      "cell_type": "code",
      "metadata": {
        "id": "0JDnIv5nygQs",
        "colab_type": "code",
        "colab": {
          "base_uri": "https://localhost:8080/",
          "height": 68
        },
        "outputId": "b5d3e080-70ce-463d-d94e-b32a45adbbb2"
      },
      "source": [
        "fruits=['bananas','kiwi','mango']\n",
        "for i in fruits:\n",
        "  print(i)"
      ],
      "execution_count": 51,
      "outputs": [
        {
          "output_type": "stream",
          "text": [
            "bananas\n",
            "kiwi\n",
            "mango\n"
          ],
          "name": "stdout"
        }
      ]
    },
    {
      "cell_type": "code",
      "metadata": {
        "id": "BpBJlPYryzSQ",
        "colab_type": "code",
        "colab": {
          "base_uri": "https://localhost:8080/",
          "height": 119
        },
        "outputId": "82ec1824-754c-4a6b-e9a5-9da01ba59219"
      },
      "source": [
        "for i in 'banana':\n",
        "  print(i)"
      ],
      "execution_count": 53,
      "outputs": [
        {
          "output_type": "stream",
          "text": [
            "b\n",
            "a\n",
            "n\n",
            "a\n",
            "n\n",
            "a\n"
          ],
          "name": "stdout"
        }
      ]
    },
    {
      "cell_type": "code",
      "metadata": {
        "id": "N5OVQ7J10DhR",
        "colab_type": "code",
        "colab": {
          "base_uri": "https://localhost:8080/",
          "height": 187
        },
        "outputId": "22088cdc-6323-43da-e675-d02ef70b94de"
      },
      "source": [
        "for i in range(0,10):\n",
        "  print (i)"
      ],
      "execution_count": 54,
      "outputs": [
        {
          "output_type": "stream",
          "text": [
            "0\n",
            "1\n",
            "2\n",
            "3\n",
            "4\n",
            "5\n",
            "6\n",
            "7\n",
            "8\n",
            "9\n"
          ],
          "name": "stdout"
        }
      ]
    },
    {
      "cell_type": "code",
      "metadata": {
        "id": "dZDKGG3t0YWJ",
        "colab_type": "code",
        "colab": {}
      },
      "source": [
        "adj = ['red','black','white','green']\n",
        "fruits = ['apple','kiwi','banana']\n"
      ],
      "execution_count": 0,
      "outputs": []
    },
    {
      "cell_type": "code",
      "metadata": {
        "id": "p9ZYJzJ10sCu",
        "colab_type": "code",
        "colab": {
          "base_uri": "https://localhost:8080/",
          "height": 221
        },
        "outputId": "aea4b1a9-5e2b-42a9-836a-ba7aec525c46"
      },
      "source": [
        "# for loop, double boucle for sur deux tableaux\n",
        "for i in adj:\n",
        "  for j in fruits:\n",
        "    print(i,j)"
      ],
      "execution_count": 58,
      "outputs": [
        {
          "output_type": "stream",
          "text": [
            "red apple\n",
            "red kiwi\n",
            "red banana\n",
            "black apple\n",
            "black kiwi\n",
            "black banana\n",
            "white apple\n",
            "white kiwi\n",
            "white banana\n",
            "green apple\n",
            "green kiwi\n",
            "green banana\n"
          ],
          "name": "stdout"
        }
      ]
    },
    {
      "cell_type": "code",
      "metadata": {
        "id": "F3aFrDu_1ewo",
        "colab_type": "code",
        "colab": {
          "base_uri": "https://localhost:8080/",
          "height": 34
        },
        "outputId": "3fe37b5c-8a3d-428b-bf7a-7c5c757784bd"
      },
      "source": [
        "lst = []\n",
        "for i in range (0,10):\n",
        "  lst.append(i)\n",
        "print(lst)"
      ],
      "execution_count": 61,
      "outputs": [
        {
          "output_type": "stream",
          "text": [
            "[0, 1, 2, 3, 4, 5, 6, 7, 8, 9]\n"
          ],
          "name": "stdout"
        }
      ]
    },
    {
      "cell_type": "code",
      "metadata": {
        "id": "jdMg1hr32A12",
        "colab_type": "code",
        "colab": {
          "base_uri": "https://localhost:8080/",
          "height": 34
        },
        "outputId": "e5e5d9c4-65f1-45cc-9dce-09094dcb4398"
      },
      "source": [
        "lst2 = [i for i in range(0,10)]\n",
        "print (lst2)"
      ],
      "execution_count": 62,
      "outputs": [
        {
          "output_type": "stream",
          "text": [
            "[0, 1, 2, 3, 4, 5, 6, 7, 8, 9]\n"
          ],
          "name": "stdout"
        }
      ]
    },
    {
      "cell_type": "code",
      "metadata": {
        "id": "nF_3fdOP2b8X",
        "colab_type": "code",
        "colab": {}
      },
      "source": [
        "for i in range (0,20):\n",
        "  if i>5:\n",
        "    lst2.append(i)"
      ],
      "execution_count": 0,
      "outputs": []
    },
    {
      "cell_type": "code",
      "metadata": {
        "id": "JwaqgItv3TQw",
        "colab_type": "code",
        "colab": {}
      },
      "source": [
        "lst4=[]\n",
        "for i in range (0,20):\n",
        "  if i>5:\n",
        "    lst4.append(i)"
      ],
      "execution_count": 0,
      "outputs": []
    },
    {
      "cell_type": "code",
      "metadata": {
        "id": "KdG2Cvbg2uVR",
        "colab_type": "code",
        "colab": {
          "base_uri": "https://localhost:8080/",
          "height": 34
        },
        "outputId": "16a05b84-4be4-47f0-c310-546dad7f723e"
      },
      "source": [
        "    \n",
        "print(lst4)"
      ],
      "execution_count": 78,
      "outputs": [
        {
          "output_type": "stream",
          "text": [
            "[6, 7, 8, 9, 10, 11, 12, 13, 14, 15, 16, 17, 18, 19]\n"
          ],
          "name": "stdout"
        }
      ]
    },
    {
      "cell_type": "code",
      "metadata": {
        "id": "us5-ioMW2w2_",
        "colab_type": "code",
        "colab": {}
      },
      "source": [
        "lst3 = [i for i in range(0,10) if i>5]"
      ],
      "execution_count": 0,
      "outputs": []
    },
    {
      "cell_type": "code",
      "metadata": {
        "id": "bHfEXOpX29WB",
        "colab_type": "code",
        "colab": {
          "base_uri": "https://localhost:8080/",
          "height": 34
        },
        "outputId": "3a7a4ba9-09ea-43ed-b71f-10aad24333db"
      },
      "source": [
        "print (lst3)"
      ],
      "execution_count": 74,
      "outputs": [
        {
          "output_type": "stream",
          "text": [
            "[6, 7, 8, 9]\n"
          ],
          "name": "stdout"
        }
      ]
    },
    {
      "cell_type": "markdown",
      "metadata": {
        "id": "_gY1cl9s3ea0",
        "colab_type": "text"
      },
      "source": [
        "**use a list comprehension to create and print a list of consecutive INT starting with 1 and ending with 50**"
      ]
    },
    {
      "cell_type": "code",
      "metadata": {
        "id": "yt3zpueh3oqX",
        "colab_type": "code",
        "colab": {
          "base_uri": "https://localhost:8080/",
          "height": 54
        },
        "outputId": "8f89deb2-8bd2-4511-a8ff-a94708fc96a6"
      },
      "source": [
        "lstInt  = [ i for i in range (1,51)]\n",
        "print(lstInt)"
      ],
      "execution_count": 81,
      "outputs": [
        {
          "output_type": "stream",
          "text": [
            "[1, 2, 3, 4, 5, 6, 7, 8, 9, 10, 11, 12, 13, 14, 15, 16, 17, 18, 19, 20, 21, 22, 23, 24, 25, 26, 27, 28, 29, 30, 31, 32, 33, 34, 35, 36, 37, 38, 39, 40, 41, 42, 43, 44, 45, 46, 47, 48, 49, 50]\n"
          ],
          "name": "stdout"
        }
      ]
    },
    {
      "cell_type": "markdown",
      "metadata": {
        "id": "Nb9aUfKf3pK3",
        "colab_type": "text"
      },
      "source": [
        "**use a list comprehension to create and print a list of even numbers starting with 2 and endig with 200**"
      ]
    },
    {
      "cell_type": "code",
      "metadata": {
        "id": "71iSzgiT3psm",
        "colab_type": "code",
        "colab": {
          "base_uri": "https://localhost:8080/",
          "height": 54
        },
        "outputId": "c8e5a500-09b9-4d8c-f969-d525105641a7"
      },
      "source": [
        "lstEven = [i for i in range(2,201) if i%2==0]\n",
        "print(lstEven)"
      ],
      "execution_count": 88,
      "outputs": [
        {
          "output_type": "stream",
          "text": [
            "[2, 4, 6, 8, 10, 12, 14, 16, 18, 20, 22, 24, 26, 28, 30, 32, 34, 36, 38, 40, 42, 44, 46, 48, 50, 52, 54, 56, 58, 60, 62, 64, 66, 68, 70, 72, 74, 76, 78, 80, 82, 84, 86, 88, 90, 92, 94, 96, 98, 100, 102, 104, 106, 108, 110, 112, 114, 116, 118, 120, 122, 124, 126, 128, 130, 132, 134, 136, 138, 140, 142, 144, 146, 148, 150, 152, 154, 156, 158, 160, 162, 164, 166, 168, 170, 172, 174, 176, 178, 180, 182, 184, 186, 188, 190, 192, 194, 196, 198, 200]\n"
          ],
          "name": "stdout"
        }
      ]
    },
    {
      "cell_type": "markdown",
      "metadata": {
        "id": "XMEwktoU578i",
        "colab_type": "text"
      },
      "source": [
        "# ***Tuples***"
      ]
    },
    {
      "cell_type": "code",
      "metadata": {
        "id": "iG0P1QVE5_-j",
        "colab_type": "code",
        "colab": {}
      },
      "source": [
        "chocolates = ('dark','milk','sweet')"
      ],
      "execution_count": 0,
      "outputs": []
    },
    {
      "cell_type": "code",
      "metadata": {
        "id": "MDgiQTaY6Pdr",
        "colab_type": "code",
        "colab": {
          "base_uri": "https://localhost:8080/",
          "height": 34
        },
        "outputId": "b2a94bc5-6ba6-4f9c-f4ad-79a3cea73876"
      },
      "source": [
        "print (chocolates[1])"
      ],
      "execution_count": 92,
      "outputs": [
        {
          "output_type": "stream",
          "text": [
            "milk\n"
          ],
          "name": "stdout"
        }
      ]
    },
    {
      "cell_type": "code",
      "metadata": {
        "id": "VJdvMHTD6ioS",
        "colab_type": "code",
        "colab": {
          "base_uri": "https://localhost:8080/",
          "height": 163
        },
        "outputId": "70eb4ca4-2f4b-4439-b5b0-ac9f2817b47f"
      },
      "source": [
        "chocolates[1]='silk'"
      ],
      "execution_count": 93,
      "outputs": [
        {
          "output_type": "error",
          "ename": "TypeError",
          "evalue": "ignored",
          "traceback": [
            "\u001b[0;31m---------------------------------------------------------------------------\u001b[0m",
            "\u001b[0;31mTypeError\u001b[0m                                 Traceback (most recent call last)",
            "\u001b[0;32m<ipython-input-93-dbf28cebaadf>\u001b[0m in \u001b[0;36m<module>\u001b[0;34m()\u001b[0m\n\u001b[0;32m----> 1\u001b[0;31m \u001b[0mchocolates\u001b[0m\u001b[0;34m[\u001b[0m\u001b[0;36m1\u001b[0m\u001b[0;34m]\u001b[0m\u001b[0;34m=\u001b[0m\u001b[0;34m'silk'\u001b[0m\u001b[0;34m\u001b[0m\u001b[0;34m\u001b[0m\u001b[0m\n\u001b[0m",
            "\u001b[0;31mTypeError\u001b[0m: 'tuple' object does not support item assignment"
          ]
        }
      ]
    },
    {
      "cell_type": "code",
      "metadata": {
        "id": "Mrxaua8l6tmT",
        "colab_type": "code",
        "colab": {
          "base_uri": "https://localhost:8080/",
          "height": 34
        },
        "outputId": "37b50402-e2fe-47b2-e282-d55138e84c3d"
      },
      "source": [
        "len(chocolates)"
      ],
      "execution_count": 94,
      "outputs": [
        {
          "output_type": "execute_result",
          "data": {
            "text/plain": [
              "3"
            ]
          },
          "metadata": {
            "tags": []
          },
          "execution_count": 94
        }
      ]
    },
    {
      "cell_type": "code",
      "metadata": {
        "id": "SbOqrwaB6zEh",
        "colab_type": "code",
        "colab": {
          "base_uri": "https://localhost:8080/",
          "height": 68
        },
        "outputId": "5d1d4a8a-1b00-4ba9-e754-d63990de1061"
      },
      "source": [
        "for i in chocolates:\n",
        "  print(i)"
      ],
      "execution_count": 95,
      "outputs": [
        {
          "output_type": "stream",
          "text": [
            "dark\n",
            "milk\n",
            "sweet\n"
          ],
          "name": "stdout"
        }
      ]
    },
    {
      "cell_type": "markdown",
      "metadata": {
        "id": "_c9HNZpG69sU",
        "colab_type": "text"
      },
      "source": [
        "# ***Dictionary***"
      ]
    },
    {
      "cell_type": "code",
      "metadata": {
        "id": "ueLzm0en7AZe",
        "colab_type": "code",
        "colab": {}
      },
      "source": [
        "contacts = {'Betta':'0101010101','Mila':'0202020202','Dyniss':'0303030303'}"
      ],
      "execution_count": 0,
      "outputs": []
    },
    {
      "cell_type": "code",
      "metadata": {
        "id": "XvRclDhY7jkM",
        "colab_type": "code",
        "colab": {
          "base_uri": "https://localhost:8080/",
          "height": 34
        },
        "outputId": "73bae1a5-8c0f-4997-b541-9aa764d54306"
      },
      "source": [
        "contacts.keys()"
      ],
      "execution_count": 99,
      "outputs": [
        {
          "output_type": "execute_result",
          "data": {
            "text/plain": [
              "dict_keys(['Betta', 'Mila', 'Dyniss'])"
            ]
          },
          "metadata": {
            "tags": []
          },
          "execution_count": 99
        }
      ]
    },
    {
      "cell_type": "code",
      "metadata": {
        "id": "w1uHClGP7xVr",
        "colab_type": "code",
        "colab": {
          "base_uri": "https://localhost:8080/",
          "height": 34
        },
        "outputId": "2c14ca7d-9c8b-4e68-a36f-05f96d9e9c1d"
      },
      "source": [
        "contacts.values()"
      ],
      "execution_count": 100,
      "outputs": [
        {
          "output_type": "execute_result",
          "data": {
            "text/plain": [
              "dict_values(['0101010101', '0202020202', '0303030303'])"
            ]
          },
          "metadata": {
            "tags": []
          },
          "execution_count": 100
        }
      ]
    },
    {
      "cell_type": "code",
      "metadata": {
        "id": "L7Wzu7lO7zy5",
        "colab_type": "code",
        "colab": {
          "base_uri": "https://localhost:8080/",
          "height": 34
        },
        "outputId": "e05ada81-af59-4bc3-8176-7de5e4294a49"
      },
      "source": [
        "contacts.items()"
      ],
      "execution_count": 101,
      "outputs": [
        {
          "output_type": "execute_result",
          "data": {
            "text/plain": [
              "dict_items([('Betta', '0101010101'), ('Mila', '0202020202'), ('Dyniss', '0303030303')])"
            ]
          },
          "metadata": {
            "tags": []
          },
          "execution_count": 101
        }
      ]
    },
    {
      "cell_type": "code",
      "metadata": {
        "id": "LU1i-hB974an",
        "colab_type": "code",
        "colab": {
          "base_uri": "https://localhost:8080/",
          "height": 34
        },
        "outputId": "da94be3a-12a4-411c-f6e3-21d32b5ea5e3"
      },
      "source": [
        "contacts['Betta']"
      ],
      "execution_count": 102,
      "outputs": [
        {
          "output_type": "execute_result",
          "data": {
            "text/plain": [
              "'0101010101'"
            ]
          },
          "metadata": {
            "tags": []
          },
          "execution_count": 102
        }
      ]
    },
    {
      "cell_type": "code",
      "metadata": {
        "id": "Rkv4cR-W74dq",
        "colab_type": "code",
        "colab": {}
      },
      "source": [
        "contacts['Betta']='0404040404'"
      ],
      "execution_count": 0,
      "outputs": []
    },
    {
      "cell_type": "code",
      "metadata": {
        "id": "jVSWReJ97xZN",
        "colab_type": "code",
        "colab": {
          "base_uri": "https://localhost:8080/",
          "height": 34
        },
        "outputId": "03a0b87f-b823-4b1e-ff01-9284973c9abd"
      },
      "source": [
        "contacts['Betta']"
      ],
      "execution_count": 105,
      "outputs": [
        {
          "output_type": "execute_result",
          "data": {
            "text/plain": [
              "'0404040404'"
            ]
          },
          "metadata": {
            "tags": []
          },
          "execution_count": 105
        }
      ]
    },
    {
      "cell_type": "code",
      "metadata": {
        "id": "7SJjWgc28dn4",
        "colab_type": "code",
        "colab": {
          "base_uri": "https://localhost:8080/",
          "height": 68
        },
        "outputId": "69c7ee8c-558d-4490-b109-a14670f8d3d0"
      },
      "source": [
        "for i in contacts.keys():\n",
        "  print(i)"
      ],
      "execution_count": 106,
      "outputs": [
        {
          "output_type": "stream",
          "text": [
            "Betta\n",
            "Mila\n",
            "Dyniss\n"
          ],
          "name": "stdout"
        }
      ]
    },
    {
      "cell_type": "markdown",
      "metadata": {
        "id": "TEcD203f97OF",
        "colab_type": "text"
      },
      "source": [
        "# ***Set***"
      ]
    },
    {
      "cell_type": "code",
      "metadata": {
        "id": "7fdnzO8A9-t6",
        "colab_type": "code",
        "colab": {
          "base_uri": "https://localhost:8080/",
          "height": 34
        },
        "outputId": "571c324b-89b7-46e0-b437-73eea29bb1e6"
      },
      "source": [
        "#set pas de doublons\n",
        "abc = set(['betta','mila','dyniss','fila','fila'])\n",
        "print(abc)"
      ],
      "execution_count": 108,
      "outputs": [
        {
          "output_type": "stream",
          "text": [
            "{'mila', 'dyniss', 'betta', 'fila'}\n"
          ],
          "name": "stdout"
        }
      ]
    }
  ]
}