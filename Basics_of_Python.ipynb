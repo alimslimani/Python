{
  "nbformat": 4,
  "nbformat_minor": 0,
  "metadata": {
    "colab": {
      "name": "Basics of Python.ipynb",
      "provenance": [],
      "collapsed_sections": [],
      "include_colab_link": true
    },
    "kernelspec": {
      "name": "python3",
      "display_name": "Python 3"
    }
  },
  "cells": [
    {
      "cell_type": "markdown",
      "metadata": {
        "id": "view-in-github",
        "colab_type": "text"
      },
      "source": [
        "<a href=\"https://colab.research.google.com/github/alimslimani/PythonIntro/blob/develop/Basics_of_Python.ipynb\" target=\"_parent\"><img src=\"https://colab.research.google.com/assets/colab-badge.svg\" alt=\"Open In Colab\"/></a>"
      ]
    },
    {
      "cell_type": "code",
      "metadata": {
        "id": "EOVyCwhYlBD9",
        "colab_type": "code",
        "colab": {
          "base_uri": "https://localhost:8080/",
          "height": 34
        },
        "outputId": "b9ce734a-d3e0-43d7-fee3-43db62cec1ad"
      },
      "source": [
        "print (\"Hello\");"
      ],
      "execution_count": 4,
      "outputs": [
        {
          "output_type": "stream",
          "text": [
            "Hello\n"
          ],
          "name": "stdout"
        }
      ]
    },
    {
      "cell_type": "code",
      "metadata": {
        "id": "-85Mwz9Wm4Cg",
        "colab_type": "code",
        "colab": {
          "base_uri": "https://localhost:8080/",
          "height": 34
        },
        "outputId": "ecaa209a-7c27-4991-c47e-f46bc7064d34"
      },
      "source": [
        "num1= 2015\n",
        "num2= 4561\n",
        "print(num1+num2);"
      ],
      "execution_count": 6,
      "outputs": [
        {
          "output_type": "stream",
          "text": [
            "6576\n"
          ],
          "name": "stdout"
        }
      ]
    },
    {
      "cell_type": "code",
      "metadata": {
        "id": "x5W-6ZqJm4UD",
        "colab_type": "code",
        "colab": {
          "base_uri": "https://localhost:8080/",
          "height": 68
        },
        "outputId": "33f11572-4f43-4fea-af67-eff1449a0722"
      },
      "source": [
        "num1 = input('Enter your number: ')\n",
        "num2= input('Enter number 2:')\n",
        "print(float(num1)*float(num2))"
      ],
      "execution_count": 12,
      "outputs": [
        {
          "output_type": "stream",
          "text": [
            "Enter your number: 5.2\n",
            "Enter number 2:2\n",
            "10.4\n"
          ],
          "name": "stdout"
        }
      ]
    },
    {
      "cell_type": "markdown",
      "metadata": {
        "id": "Pg1CXsy6oa6F",
        "colab_type": "text"
      },
      "source": [
        "Basic Calculator\n"
      ]
    },
    {
      "cell_type": "code",
      "metadata": {
        "id": "CkrCgzqbnaQh",
        "colab_type": "code",
        "colab": {
          "base_uri": "https://localhost:8080/",
          "height": 85
        },
        "outputId": "6bdde85d-c2cf-4cc1-ab0c-907c5e3647a9"
      },
      "source": [
        "#to multiply two numbers\n",
        "def mult(a,b):\n",
        "  return a*b\n",
        "\n",
        "#to add two numbers\n",
        "def add(a,b):\n",
        "  return a+b\n",
        "\n",
        "#to substract two numbers\n",
        "def minus(a,b):\n",
        "  return a-b\n",
        "\n",
        "#to divide two numbers\n",
        "def div(a,b):\n",
        "  return a/b\n",
        "\n",
        "choice = input(\"Enter choice(*,/,+,-)\")\n",
        "num1 = int(input(\"Enter number 1: \"))\n",
        "num2 = int(input(\"Enter number 2: \"))\n",
        "\n",
        "if(choice=='+'):\n",
        "  print('addition is ',add(num1,num2))\n",
        "elif(choice == '-'):\n",
        "  print('substraction is ',minus(num1,num2))\n",
        "elif(choice =='*'):\n",
        "  print('multiplication is ',mult(num1,num2))\n",
        "elif(choice == '/'):\n",
        "  print('division is ',div(num1,num2))\n",
        "else:\n",
        "  print('Enter a valid number')"
      ],
      "execution_count": 30,
      "outputs": [
        {
          "output_type": "stream",
          "text": [
            "Enter choice(*,/,+,-)*\n",
            "Enter number 1: 5\n",
            "Enter number 2: 5\n",
            "multiplication is  25\n"
          ],
          "name": "stdout"
        }
      ]
    },
    {
      "cell_type": "code",
      "metadata": {
        "id": "T3mYPLK5uy34",
        "colab_type": "code",
        "colab": {}
      },
      "source": [
        ""
      ],
      "execution_count": 0,
      "outputs": []
    },
    {
      "cell_type": "markdown",
      "metadata": {
        "id": "5z_YaTbKu4BH",
        "colab_type": "text"
      },
      "source": [
        "***Lists***"
      ]
    },
    {
      "cell_type": "code",
      "metadata": {
        "id": "xb0XVAv4u7Rz",
        "colab_type": "code",
        "colab": {}
      },
      "source": [
        "my_list = [1,2,3,4,5]"
      ],
      "execution_count": 0,
      "outputs": []
    },
    {
      "cell_type": "code",
      "metadata": {
        "id": "qNvCzx-XvCyE",
        "colab_type": "code",
        "colab": {
          "base_uri": "https://localhost:8080/",
          "height": 34
        },
        "outputId": "84543a08-1373-4a3b-9518-3d626f495f26"
      },
      "source": [
        "print(my_list)"
      ],
      "execution_count": 33,
      "outputs": [
        {
          "output_type": "stream",
          "text": [
            "[1, 2, 3, 4, 5]\n"
          ],
          "name": "stdout"
        }
      ]
    },
    {
      "cell_type": "code",
      "metadata": {
        "id": "EPSYwKKDvJqk",
        "colab_type": "code",
        "colab": {}
      },
      "source": [
        "my_list2=[1,2,'ab',True]"
      ],
      "execution_count": 0,
      "outputs": []
    },
    {
      "cell_type": "code",
      "metadata": {
        "id": "BEHU2iu-vQTi",
        "colab_type": "code",
        "colab": {
          "base_uri": "https://localhost:8080/",
          "height": 34
        },
        "outputId": "6cbba0ae-37b5-4494-bbf1-f367e8ab903e"
      },
      "source": [
        "print (my_list2)"
      ],
      "execution_count": 36,
      "outputs": [
        {
          "output_type": "stream",
          "text": [
            "[1, 2, 'ab', True]\n"
          ],
          "name": "stdout"
        }
      ]
    },
    {
      "cell_type": "code",
      "metadata": {
        "id": "Sx3DixMQvXZg",
        "colab_type": "code",
        "colab": {}
      },
      "source": [
        "my_list3=[\"ab\",[1,2,3],['a','b']]"
      ],
      "execution_count": 0,
      "outputs": []
    },
    {
      "cell_type": "code",
      "metadata": {
        "id": "pQMneMvPve_0",
        "colab_type": "code",
        "colab": {
          "base_uri": "https://localhost:8080/",
          "height": 34
        },
        "outputId": "5e60ef10-6665-4a30-80fa-be4f94bcc071"
      },
      "source": [
        "print(my_list3)"
      ],
      "execution_count": 38,
      "outputs": [
        {
          "output_type": "stream",
          "text": [
            "['ab', [1, 2, 3], ['a', 'b']]\n"
          ],
          "name": "stdout"
        }
      ]
    },
    {
      "cell_type": "code",
      "metadata": {
        "id": "YXEyHXphwHwO",
        "colab_type": "code",
        "colab": {
          "base_uri": "https://localhost:8080/",
          "height": 34
        },
        "outputId": "375fe2b7-b9ce-4979-f588-cba1c5420b86"
      },
      "source": [
        "#to access list elements of list\n",
        "#acces to last element of list : -1\n",
        "my_list4 = ['i','r','o','n','h','a','c','k']\n",
        "print(my_list4[4])"
      ],
      "execution_count": 40,
      "outputs": [
        {
          "output_type": "stream",
          "text": [
            "h\n"
          ],
          "name": "stdout"
        }
      ]
    },
    {
      "cell_type": "code",
      "metadata": {
        "id": "JhQ5VV6vw14V",
        "colab_type": "code",
        "colab": {
          "base_uri": "https://localhost:8080/",
          "height": 34
        },
        "outputId": "2945a3ab-9f23-4f4a-e2d6-5300e84efc13"
      },
      "source": [
        "print(my_list4[2:5])"
      ],
      "execution_count": 42,
      "outputs": [
        {
          "output_type": "stream",
          "text": [
            "['o', 'n', 'h']\n"
          ],
          "name": "stdout"
        }
      ]
    },
    {
      "cell_type": "code",
      "metadata": {
        "id": "CwZTXrfMxHcz",
        "colab_type": "code",
        "colab": {
          "base_uri": "https://localhost:8080/",
          "height": 34
        },
        "outputId": "9f85bf5e-23e0-49c8-d6cb-4d5840a374d2"
      },
      "source": [
        "adds = [1,2,5,7]\n",
        "adds.append(9)\n",
        "print(adds)"
      ],
      "execution_count": 43,
      "outputs": [
        {
          "output_type": "stream",
          "text": [
            "[1, 2, 5, 7, 9]\n"
          ],
          "name": "stdout"
        }
      ]
    },
    {
      "cell_type": "code",
      "metadata": {
        "id": "Yo3ggt2IxoKJ",
        "colab_type": "code",
        "colab": {}
      },
      "source": [
        "adds.append([11,13,15])"
      ],
      "execution_count": 0,
      "outputs": []
    },
    {
      "cell_type": "code",
      "metadata": {
        "id": "IL9du1kCyEXd",
        "colab_type": "code",
        "colab": {
          "base_uri": "https://localhost:8080/",
          "height": 51
        },
        "outputId": "1d20a6df-b150-42ae-8271-f67ca5a1a3be"
      },
      "source": [
        "print(adds)\n",
        "del adds[-1]\n",
        "print(adds)"
      ],
      "execution_count": 49,
      "outputs": [
        {
          "output_type": "stream",
          "text": [
            "[1, 2, 5, 7, 9, [11, 13, 15]]\n",
            "[1, 2, 5, 7, 9]\n"
          ],
          "name": "stdout"
        }
      ]
    },
    {
      "cell_type": "code",
      "metadata": {
        "id": "V3wPRQATyQwN",
        "colab_type": "code",
        "colab": {
          "base_uri": "https://localhost:8080/",
          "height": 34
        },
        "outputId": "b3c86105-7c62-4d94-afc1-339c5472780b"
      },
      "source": [
        "adds.extend([11,13])\n",
        "print(adds)"
      ],
      "execution_count": 50,
      "outputs": [
        {
          "output_type": "stream",
          "text": [
            "[1, 2, 5, 7, 9, 11, 13]\n"
          ],
          "name": "stdout"
        }
      ]
    },
    {
      "cell_type": "code",
      "metadata": {
        "id": "0JDnIv5nygQs",
        "colab_type": "code",
        "colab": {
          "base_uri": "https://localhost:8080/",
          "height": 68
        },
        "outputId": "b5d3e080-70ce-463d-d94e-b32a45adbbb2"
      },
      "source": [
        "fruits=['bananas','kiwi','mango']\n",
        "for i in fruits:\n",
        "  print(i)"
      ],
      "execution_count": 51,
      "outputs": [
        {
          "output_type": "stream",
          "text": [
            "bananas\n",
            "kiwi\n",
            "mango\n"
          ],
          "name": "stdout"
        }
      ]
    },
    {
      "cell_type": "code",
      "metadata": {
        "id": "BpBJlPYryzSQ",
        "colab_type": "code",
        "colab": {
          "base_uri": "https://localhost:8080/",
          "height": 119
        },
        "outputId": "82ec1824-754c-4a6b-e9a5-9da01ba59219"
      },
      "source": [
        "for i in 'banana':\n",
        "  print(i)"
      ],
      "execution_count": 53,
      "outputs": [
        {
          "output_type": "stream",
          "text": [
            "b\n",
            "a\n",
            "n\n",
            "a\n",
            "n\n",
            "a\n"
          ],
          "name": "stdout"
        }
      ]
    }
  ]
}